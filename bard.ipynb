{
  "nbformat": 4,
  "nbformat_minor": 0,
  "metadata": {
    "colab": {
      "provenance": []
    },
    "kernelspec": {
      "name": "python3",
      "display_name": "Python 3"
    },
    "language_info": {
      "name": "python"
    }
  },
  "cells": [
    {
      "cell_type": "markdown",
      "source": [
        "instalacion Texto a voz gTTs"
      ],
      "metadata": {
        "id": "n8vFCvzIoO8H"
      }
    },
    {
      "cell_type": "code",
      "execution_count": 1,
      "metadata": {
        "colab": {
          "base_uri": "https://localhost:8080/"
        },
        "id": "KNTkXTJFoEb7",
        "outputId": "2a5fd9cd-5ba2-4923-bc0e-18b6ffa33829"
      },
      "outputs": [
        {
          "output_type": "stream",
          "name": "stdout",
          "text": [
            "Collecting gTTs\n",
            "  Downloading gTTS-2.4.0-py3-none-any.whl (29 kB)\n",
            "Requirement already satisfied: requests<3,>=2.27 in /usr/local/lib/python3.10/dist-packages (from gTTs) (2.31.0)\n",
            "Requirement already satisfied: click<8.2,>=7.1 in /usr/local/lib/python3.10/dist-packages (from gTTs) (8.1.7)\n",
            "Requirement already satisfied: charset-normalizer<4,>=2 in /usr/local/lib/python3.10/dist-packages (from requests<3,>=2.27->gTTs) (3.3.2)\n",
            "Requirement already satisfied: idna<4,>=2.5 in /usr/local/lib/python3.10/dist-packages (from requests<3,>=2.27->gTTs) (3.4)\n",
            "Requirement already satisfied: urllib3<3,>=1.21.1 in /usr/local/lib/python3.10/dist-packages (from requests<3,>=2.27->gTTs) (2.0.7)\n",
            "Requirement already satisfied: certifi>=2017.4.17 in /usr/local/lib/python3.10/dist-packages (from requests<3,>=2.27->gTTs) (2023.7.22)\n",
            "Installing collected packages: gTTs\n",
            "Successfully installed gTTs-2.4.0\n"
          ]
        }
      ],
      "source": [
        "!pip install gTTs"
      ]
    },
    {
      "cell_type": "markdown",
      "source": [
        "Lenguajes soportados"
      ],
      "metadata": {
        "id": "xEvp4RT1obcd"
      }
    },
    {
      "cell_type": "code",
      "source": [
        "!gtts-cli --all"
      ],
      "metadata": {
        "colab": {
          "base_uri": "https://localhost:8080/"
        },
        "id": "H7ekskROoe4Y",
        "outputId": "9f145ff5-44e6-4944-e3ec-8fb19e7a1295"
      },
      "execution_count": 3,
      "outputs": [
        {
          "output_type": "stream",
          "name": "stdout",
          "text": [
            "  af: Afrikaans\n",
            "  ar: Arabic\n",
            "  bg: Bulgarian\n",
            "  bn: Bengali\n",
            "  bs: Bosnian\n",
            "  ca: Catalan\n",
            "  cs: Czech\n",
            "  da: Danish\n",
            "  de: German\n",
            "  el: Greek\n",
            "  en: English\n",
            "  es: Spanish\n",
            "  et: Estonian\n",
            "  fi: Finnish\n",
            "  fr: French\n",
            "  gu: Gujarati\n",
            "  hi: Hindi\n",
            "  hr: Croatian\n",
            "  hu: Hungarian\n",
            "  id: Indonesian\n",
            "  is: Icelandic\n",
            "  it: Italian\n",
            "  iw: Hebrew\n",
            "  ja: Japanese\n",
            "  jw: Javanese\n",
            "  km: Khmer\n",
            "  kn: Kannada\n",
            "  ko: Korean\n",
            "  la: Latin\n",
            "  lv: Latvian\n",
            "  ml: Malayalam\n",
            "  mr: Marathi\n",
            "  ms: Malay\n",
            "  my: Myanmar (Burmese)\n",
            "  ne: Nepali\n",
            "  nl: Dutch\n",
            "  no: Norwegian\n",
            "  pl: Polish\n",
            "  pt: Portuguese\n",
            "  ro: Romanian\n",
            "  ru: Russian\n",
            "  si: Sinhala\n",
            "  sk: Slovak\n",
            "  sq: Albanian\n",
            "  sr: Serbian\n",
            "  su: Sundanese\n",
            "  sv: Swedish\n",
            "  sw: Swahili\n",
            "  ta: Tamil\n",
            "  te: Telugu\n",
            "  th: Thai\n",
            "  tl: Filipino\n",
            "  tr: Turkish\n",
            "  uk: Ukrainian\n",
            "  ur: Urdu\n",
            "  vi: Vietnamese\n",
            "  zh-CN: Chinese (Simplified)\n",
            "  zh-TW: Chinese (Mandarin/Taiwan)\n",
            "  zh: Chinese (Mandarin)\n"
          ]
        }
      ]
    },
    {
      "cell_type": "markdown",
      "source": [
        "esta libreria sirve para pasar el texto a voz, ahora un ejemplo simple de texto a voz"
      ],
      "metadata": {
        "id": "ln47LJFgor4O"
      }
    },
    {
      "cell_type": "code",
      "source": [
        "#importamos la libreria gtts\n",
        "from gtts import gTTS"
      ],
      "metadata": {
        "id": "8es6L6fMo3KM"
      },
      "execution_count": 6,
      "outputs": []
    },
    {
      "cell_type": "code",
      "source": [
        "frase = gTTS('Hola, soy el primer texto a voz',lang='es')\n",
        "frase.save('hola.mp3')"
      ],
      "metadata": {
        "id": "Dm3g01lipHet"
      },
      "execution_count": 13,
      "outputs": []
    },
    {
      "cell_type": "code",
      "source": [
        "from IPython.display import Audio"
      ],
      "metadata": {
        "id": "tqjg6G_QqEKs"
      },
      "execution_count": 8,
      "outputs": []
    },
    {
      "cell_type": "code",
      "source": [
        "Au = Audio('/content/hola.mp3', autoplay=True)\n",
        "display(Au)"
      ],
      "metadata": {
        "colab": {
          "base_uri": "https://localhost:8080/",
          "height": 75
        },
        "id": "hG5lEj5lqLKt",
        "outputId": "85d5a08f-2483-4a84-9316-274d028db1de"
      },
      "execution_count": 14,
      "outputs": [
        {
          "output_type": "display_data",
          "data": {
            "text/plain": [
              "<IPython.lib.display.Audio object>"
            ],
            "text/html": [
              "\n",
              "                <audio  controls=\"controls\" autoplay=\"autoplay\">\n",
              "                    <source src=\"data:audio/mpeg;base64,//NExAARyC3gAUMYAHgAACKBgZgYt+DhzOcP4Y////+GOA34nBB0QAmD4PrB8EAQBAEATB8HwfB8EAQBAEATB8HwfB8EAQBAEATB8HwfB8EAQBAMKtYvEoBQkBFu2CgE//NExAsUcyqcAZmgAIsBwg3HXob6O2otO2IDiC4pcKaAQEgMwE8nDyaAaSKDJgnPt7st1//rpzRf9vyLumyDm///6JfZD////+pd2/////7//8ze5+9SpBECA4zO7fVQ//NExAwT6xasAdk4ANIyFJcl1A2UEkBmjq7uRIEoFZTQDgncVAWQ7lT/t9vo3oY3ONP1NGw0M6o2jmX2ccMrNP83/////////////11KlDSdw/94Ro0oyzhlMtiFcCZ8//NExA8WSyKkANUOvLc5O/wrwQKxRjqRMhqQGJkAiaFYtlZaI8eson/Uh9JvST+m3uV9dRH/NIdB4SD9Y6NL8zq6f//2+n////////V1NHRJLAHmKNSTqv//66AtjJu4//NExAgTwxKwAMzEudpwCxxDkn5Qx4BIwPoBtIzgocDGQLeSgTyJYEBDV+ZnH6kP/pqf00ec7aECF+itQhAZs50UtE//////////////+8dhAwOP9MGgCtzi0S+CRAEa//NExAwUoxq4AJQEvTAPoEqUAAIYSNaQa0OVKiDlwUgIDkAKi5FzFPMC4voII+pH6aOYFw71JqXqQWlkQjlod29F///////////////WwJEOLCEa//3MCjne1jSM/EeB//NExAwTGR68AMPYcGKfUM/wlhJaZuxpJmz8ZVzFO907HgDpq0cFgR1FGDN7em+dkze/Wte8LUeQc3gVFhkgZCbRj3f///////pCp4M1/v6gs6ldTVWVgzItEcPpUMR9//NExBIPqRq0AMLKcOao7Pyke/YjtmBkOOCACAEWRhFvN6l5hIeZQKtWVEYWT99fb//////4uPDAov1uo0UFgRmV00aCh7+3u/j38IXoV+nUpjSMKKU4GKX//8ioZ2O3//NExCYQ0xKwAMiEuDkMqoVDO7NTZERl37kIv////r////////UkBHDB6qlurJBCqCQ1ww1LHDOMCkyuzFHl9STdztT21H7zy5R4oCceSn//51UOZ+iEIgkpCKrWonuR//NExDUR4xasAMnEuC7aKi/////X///////+qIRhhmr+7vjCLzUNx7ArazmWc+OUfM0ItqUTQtzyme5ayEA9mYx///oKixrkfU3ExLkVtnrMXVC6HKzJ///+ltf///////NExEASCxawAMnKuP/0Uw0WBoIL1ea/BylW1q86VFuxB6GroGWFkhEQn4x70up431p5X/pPo9cA0PhRcAcRh1ig75F79xf9DPiA4ahgcGSh63pzkpKN//////4vAKr///NExEoSCTa8AMPQcMoUOLi6kLdP6IKUVj1RAjQ3lsP5S58g8f8/XNb6EG1igEE19g1/18/UdvpBedd6GNkZNFwRcQPFyKwLCMgguv//////1CwgBYxV6gUw/iEHjxYH//NExFQSiTLEAHtScPHABRi1kgxnuOU9kgbcEC15Yjm7h2Dom7DgPryCm3Zac++EG1kDjWB8GRr////7P////SgoReWAsTSqDXF9WYabhng48is6zHnUeHr6n9czbzc4//NExFwPsSrIAGtQcDOeyUG9nKwvxcXDqd5GeskOTU9RTfHcXFMsvZmymvdZTX+2X3Wf///RLChYIOkA+GmLIey8AlKJ0UgHfyESB3yrIjKNqVTB0lgyJ5EQJDJtUAoD//NExHASeTa4AIYacNXsHw9JT2WxncbhkckxlrKo7GE3jmNMRel////////mT5L/0SwZF+3EpVe9qIKu62ADSjjoJh3/0oglQ8qyFShI0sCQ6bJgsJwwRkJKtGasaqql//NExHkSATLAAGsScHL+VZtx8NvVG9eJvv////////ojStX/1N2QjtHXxyXlZvbyoB9/SqAKICKzZJOGHXbIZwmqmIguQDQaCxHAWQqPjKqlG/4+8yPraq6aq0jQmIIr//NExIQRiTa8AHsScBqmW1f//////6pY0vo86IlAPVpxoVJb7pSqXZ4lhUFSZx0EQ8TXRYUlia9WFR09JUULFkUwqFkYlVEXa/Z/8+qX8VZBQUSJFKxL3////////1jT//NExJASKSqsAMMScCCoK4016bbEnueOg5rNXZn4zWt3t0jCukDUVWELqS2AqNxi5E42SriUqNMHR6HW3WUpsZfJ+ev+2okgrCRMCkQUSYBctSU///////5YigFc2T6a//NExJoSeUqQAMpGlNiLccbK9jM19M1qn44AdIY6FZfHi2LVtHkJGeusglJOK6VcEKYaz/oxAowMpcujs//1aSKRWJqJOw6oC1hr//////+mFeOc8VEfqsVUyukjzIiE//NExKMSqW5sAMJGlPNgFBEAwjHQsJty43krj0TIllHxLRGQioFFHoJkbvpfoqdH0an9TKWixkXgK8iSibyP///06f//5WoIaLsTM0EPVifUi7X2BzRapOEiTE83uzvG//NExKsSMWJMAHsElOfGWZ/+rNUcmUMFBhHDJkJCv0AUKiwe/+L8Vb/8VFG1CwqGTIwXTEFNRTMuMTAwqqqqqqqqqqqqqqqqqqqqqqqqqqqqqqqqqqqqqqqqTEFNRTMu//NExLUSET4sAHpacDEwMKqqqqqqqqqqqqqqqqqqqqqqqqqqqqqqqqqqqqqqqqqqqqqqqqqqqqqqqqqqqqqqqqqqqqqqqqqqqqqqqqqqqqqqqqqqqqqqqqqqTEFNRTMu//NExL8PwOWgAHmGcDEwMKqqqqqqqqqqqqqqqqqqqqqqqqqqqqqqqqqqqqqqqqqqqqqqqqqqqqqqqqqqqqqqqqqqqqqqqqqqqqqqqqqqqqqqqqqqqqqqqqqqTEFNRTMu//NExKwAAANIAAAAADEwMKqqqqqqqqqqqqqqqqqqqqqqqqqqqqqqqqqqqqqqqqqqqqqqqqqqqqqqqqqqqqqqqqqqqqqqqqqqqqqqqqqqqqqqqqqqqqqqqqqqDbyAECSI//NExKwAAANIAAAAAKw2T5a6NukCDIQuc/CCADMIAAFAwMDShwMXAgASF39EFmEABFDgYGIw4GLgAACPRE3fc4ibu6bu+iJ+n09ziF13Td30Qv//3OIm7um7voifp9OO//NExKwAAANIAAAAAHETd3EEHAxcCAAh9ABKHFvV/UbUSIfX7goCQoP9k09ZOZc8enfPxQaeNv8yax1f/z7Jb//MNRM///88nQxqX//++/RRXApj4GoEAWAKYFc5P/////NExKwAAANIAAAAAPzOQCwSCuTiLC7EOxZwXAKg0RAMIiNNb/0rNSZa+vvOr///0p/rGdZ98fevT//6x//7+/1r/X/+f6b+PrHzun+cbz843n0zjWM4xA3Ahv5KPID9//NExP8aSvTcAUkYAL7b1LO8hpNdHqbx6krV6eNA41MhBK1UpIB+qbcYu51xmyKp1epHrOaDeusH+nkefg9CLQ9zYy3nGOBXnRIfI41W/iCPhfkuHAsjsDkOhGMESio4//NExOgU8ypsAY9QAN/1/k+VZIv/UNWOeuJ5//mv////////3/r/H/x///n4+f60tDxXUBrhM8adtV0icVJloxIsCUIMdifEYOSiIa4a2QsXYwRGz+QhljBeHIkDqJKP//NExOckiyaIAcd4ABL+WwuArpI0NJYL4okOWlCS1nnNAeJ1q4V0mSnR5yCGk8F4CWMcuaHw8w//0/1P4vlXsSCpkv//////////////X//////5//Nc/99zw33f17We//NExKcfeyaQABBevDXynZfRX7NnOif2298EQzZnG7bgZYRmTHGBxp5pfA8DNgkrc0qnVayhLgeNvPIG4qjlz+rGjEsZWsdyn1g92mIPWkIX0SvcODxoap1N1CEL0nlg//NExHwh4yaQABBwvFpSoAVtDAhEq2BKdQf//8kzGcCMr6yT46aO3v//6//6+Pj//////H+PrV//9/P39/d9VxeFLaLR4nXTe6XCMYEAc6pYjV0eRKUEtQXJSmWcynQ8//NExEcfwyacAAhevOAyDHJ7Qlw5VyK8oUMGAEjEeJaeIyhSmQd6oMgS4sRbDIPI6zRGMO5TEKWAtY1UWC9FyHedyyt1u4pgaCCEZB6aTaffmpWo0bZf/////kv///+1//NExBsXuyKwAEBOvP//9lVZw0JOcaKCSkxUo3EkVlwfD4kxqWuIwvMPMPWIpcdB6C0WFSglKXRSJqMxyOaYPEhODkiKQcgtEAuCwOhKEYiau2L9nSMwC6W2ftnVWCzE//NExA8U2TaoAMZWcND6OnrssxZ+81Lc7jQLkkP2cvlDODctJxcgKxBIw+jev+X/++//n+FTeKfVmjqjm7DGTVR/2ulhEFQE8N//lf1GKgI5VW8jgc6HtBSZiBhSQLaU//NExA4Vox6sAKTKvFJFhIwCwDYfQDjx5IohWLnC5CJ9kDggEmvmpo3Wpus4g3OJvyyTBOH2zZBDuO+PO7YuQnEbeb///9f///////9PoIibuJjwiPX1FML2jfZnH8Zg//NExAoTuwq4AKNKuSlQgkymoV4IwjrElCELF1kiDdARAwBoqYkqS6fop+ip+pP1JGaZ7KAQp9jto7HdUMchGZSq///////////////7OKKCdPpA1UMM0QMzMPICMwEi//NExA4V6w60AJvKuSPk/Qhtv/Q3jpVd/uCukPUDvG8VXSLOtz/9olNf43AiazWLJamcvRgDjBShjsfyop3MY5yMiKzkev//////////////RBrHGBTF90BSQA8x7Mzd//NExAkS0wa4AJnEuUZiOQbmm3lQEl/jp3mjUSi3OcwXG9BsB4bvuKQdk0qOi0HY3eUSBBQN9WMd+jkY+ZSN///////////////sdAkKZtX8jwMUwE+EwQWs4OUMP6zU//NExBAT8xqwAKNEvd/mJp9Zih9E6/mIlqB9mVMQ/F1JN3MSiMooL0kh3GJurVjCCaGBAZ3zOUb0k/////T///////76qCAABgpQJpH0EyKAWGBdArhYT5MfnD5vov6m//NExBMR4xq0AJqKvX7P6kIrEjciBaA+IdOQj0aHroRCsF2Tv6hxvKh36GVPMVG///9X////////6SSzCIoHgx6lv1FMGicCXgVgkW4pg7GS9Q9Nf5R/yP+Y7ZlwvyMv//NExB4Sgx6sAKKKvJkRIAIaLrOC+LmZiEIFhA/oHz/UY35f0P///9v1b//////TbQoCg49yUAwd/TCxEBrSPxdayYagSrKWnk8oP9y1vUiaP6ZuR20GJ4OsKoU21G5A//NExCcTkx6wAKNEvBhTm0wIAwxirWZm5TFdEIIHf1Un6f////0X///////7tudWDC2ODdX6jEB4gpJSMEU54IcKj1ITgwrfMy8/zAeLeo1KT6kDoYRylFXMC7S6j4Te//NExCsSCxa4AJNOuceD8TEvjim+jHP89vn////p////////++0waDqNqu8//xtGLreWob7y1MGg72dVCYwKgUz+gq/kAzbqK4XgUx3cwMQpraRaObyo4qzzzAqWN+e3//NExDUSgxKwAMKOuZk757Hfc7////////////9uk6NDmU+osg3nAK1G5iTL1EHGHbUJGfkILP6B4z6CARHILdjG//6CAAGAmMiMqKZAgRBlxwWJS69Yt//////0CMLH//NExD4QGVKwAKFElEFjNd6/UocABUHvTvI7Mxtwp7/+gCJ0Y/ozlZ1S4NXIYIcS1//rIcgFMiUzVRDTJRS30ltp7//////////////MrIBJglXGTUMQGDRtrIOCAY1L//NExFAQkw6sAMCEuduFtMJBnTEa5HzCy48vh1fmoz+6Ozh2yaRgFDaIh8seESw2CgOkQ0dU8jSCuzX///////7kg0geFciAoAU0M7t44q5A5tDQML1F2AhH+jYRKjKh//NExGARAMKAANPMTKthXrjTc+OdpsgpE1Rudtr/mmRKn1esU7d3/q+vZ//t//9QdQ9QaEYqJaJjGpxB4QVZpqYz+VU3oSUWJZgVUxQNB2xdj4GHZzpvNSPVMkyR6I1V//NExG8P8LpAAOPMTKiZlGepDuMbj2VJ37GDlJRkGxTzCkkYkEFj1nJBCu2O13MqGLAhoQRqzvAaCzDAJ2qdYDbAxUBuAta6kFrAUoQoaoC5bXtrTUKUGbBEcYgbf+gt//NExIIQ2D4oAVoYAOpEERxkQubC95ERH7a6utTZE0zcWwrk4KIr36qn+WxwDQPkUJxI0a3r/239bIOzn0Tcn5u+ru/+3rf/rTZ0Co5oaOaEakAdVAkYVa0ULR0U3hIr//NExJEgkx40AZuYAWZkiAu5iur4S0HG5gojEAIipSLJBBfilyTE4FAcI7hwGgemJ/EFAGjC+ociF3BtZPlwwL5gXjxmfNAGTJoWIQgFklhEwLyJ83QNUEFjNFUuy+Yp//NExGEgoyqYAZqQAB43TQTWyrMumdNFtqWi9n///////////3//1r//W5ibkHqtWvwSO7MOkRpdOocwJ4+gSuh6/fgGdyyuX6XnNUJ7Kp4Xo9HpCMAoRCiCApBfAsAX//NExDEY2x6kAdhQAIDIwGAhAtkIqkJELIXIsljCFCY5HZERUU048xTWZ2//////////////////sVIDpzkJ1cKk61sFHTtNkkVRrTCgULhUzk4FT4vk1BRn1RKq85xz//NExCAX0TqUANJecN4Vo3irlhw+oyLCujMaIHAcESinQ+SJSHH1VjalBAeLtRp8uEXDx5EUCZ8Tie4MSjgufid3/ycQO////YsTiBX/3cIBAe7OSuhaUJVT3/ue78z7//NExBMWGxqsAMqKvfm8w190fd210ceEILwnDQFwGgQ1ypOIk1xXFsEEekrjx2VDC53KrnKYxCKZCHQs50Kn///+9Lf//////9fIphosFB0HRGr8coyYyj5Z6loQYZSW//NExA0VWxasAMHOuTrdB/+pf35/v6/6+fRIiFxqoLwSB8NlOGBGLisHY3B6JJo4ppp6ochi0no8xTpo+7XV2ONX////r///////f3OdxWoti0HB4TX+4U5gXr8kHvun//NExAoR6xKsAMlEuRUmedPAv/4cfUPPQP9G1J/u2RUOggLh1o0MDyqYBRVnASLnEtqXR+5XzGen0//////////////UxxIEoUiyw1deoxW4GgWxRwCHJ97K6mjP5fXJ//NExBUSExaMANqKuM7ChJ2ioAYbYiJJx4iz8q/N5R+d5ZHNIV//X21GJ36+3T////Tz////////2W4iGj1gg+qtSxpKkx+7SPd6yvAGg0Vy1BjN//YyJOLTSIMQQGdB//NExB8SExqQANqEvHk7so2bY96OZkSv/U89zv//1Rqk/0/////76r////////pciDBTjsO66rOUpakbB6eMWgPlUuBh1H+NUs83Kvc4cK3VtLXHCkRQcM6JJ6mKoxcT//NExCkSExaUANLEuBsnO393//7DnH///Vif///////////////+ypUEKAHq/uM0IVA5DXrtK2NCZGdeOEMPDN3BD4+/Wf6rit93BeDqXIC8va4wBh3mkgyGTRzlFvaj//NExDMQ2Rq4AMPScSYXR+AkzSAEw8+P/DPk9n9V/+UkBncqeCNF09EdwalXWSHWYo+knw6VsUW9KwcgHD+VFST7qjjKUpxQiGFhUPzFJGSHyoLhciGA2CwQFQTMOX////NExEISCTbIAHtQcP////oS1Kr3ATBa2O0B4NM4A7iaZpTIexQasyKbeKDP+rWfxKk+6QiAE25yksm3/sWPUpuRvjqFEggoCLUDgQAwnSSfCSaf//////LtEgDJ1fUB//NExEwSSTbIAGtScKhOOYBtBKcfgIMNz8zNOiXX+C/9RU/5EEJhE2kVGR7McnwcXezFA3OgqCh8Qgs6EpVMTP///////1ggFTyFln1tcgxlLH9FEAygTTz0zU2bkNIi//NExFUP4SLIAGtQcN0fMByd8DQwBJ+SQaiL/BS1/K/5IrXuCkPrryjn+Icl///////lnyoSNhuU027kAmD+5EBX75ASBsgJ0mHWQQc869RTU2iTRr0SHWnYKZKdTpG9//NExGgQAT6wAHwQcE64fH6rq/pZ/pEGe1CNlh2ddf///////9ZOXBDk/fmFFAN6RLNMiDO2bnUSqOa7cuQ8NqR1GRTBSZx8WH2cDwkLpKhUzuj9Wfoz3cwkb/////////NExHsRAR6cAMxWcP///7////////f2c8gyKmBJhOVBbgGdCk0HWgiIIcELoIhMRs3pV0RHOkrGMjtuVBaJCwCgVEMIuVv//opdv//////////////////72lQMZQrA//NExIoRSx6cAMnEvEJqMLwgFV6tM0IboOBdF3WMrSmNJLtTlfd8X+zvPRWc2pQoKDhNDi73ISlJi51YcSXvYzbwJ9S/FeGhCtNCv3L3X6fQEUUzGMQk0Tmd4gwPI6G3//NExJcRUx58AMFEvLjz/cpu7/fMu3hMIB4sBCqnJcYE50BoVYBXsQit2kNIXoUTWwVtHIdY/xdQQb96wPte2h82NSmsTWzRGdUqsfHF2GSYaDn/OK4PgAWc/4LfsWUL//NExKQQ6KIsAMvETOnE/GDcFZCTBD+JWJ4PATAB3BrBsjb88mUCTKY5QnALSWBavxznDRBBhJhKh6mhMHj/NFppvcujxH5io3J3/QY0vXTcmnSi6LJK//6Fk782WkXx//NExLMSiFooAVoYAOA7SYbpJ0///0L9/5gZqMTBk0p9iYP5TrsO2cFDjBPYay1rK8jD9McJPKM2Ej5qnzwoYI3/6nS6jWXD6KMqMWU5iNxKrWYBMxFF/ceibUyYaLqM//NExLsf8yqAAZloAIoNSNBznTREyGELh7M3bW6fTX1INughoLr////////////+rpqQRWWlxpJumAuAul2kHQgXOrIaF7DTfIff9Is/hKvhI3vlEml9ZSA5BQfGzI9D//NExI4ZcxqsAdloAeHPRHYcrzUnvQ4IhOLFHiQpJn1UwzuY2in8z2e5zP////////////+tTFHyp1W68xBJS+aOZCngN8dUs4ITEJtkh6f+xd/sn8jP/NflQGgCB5UB//NExHsVoxK8AJrOudA+IBkxZoeJaiEKxLOHghEQfPc1nMP1QzVzGzjXzUXVnP/////////////ot56DiEL3I0RsSCSQkIHI2ipqLwyfKOdP/r2vrhr44ZpgbyKkiQQx//NExHcVMxbAAJIOuSgtMHqIQuK0PUPAIDFVjGf7+bokuqy/t/////////////ocoq8aIY2FLTNAhyHnDqqSHqO8vNq4tqFv/1r/v6erJ5nKxTAMBgiBSlAUAQiBSlDo//NExHUSaxLAAIIKuQIgHnUu//zP5v/t/////////////qVStiIqylQ/KQ7RAgVKBUyvL2DIBlU6gihzgFHMyOGQBsdASQCA/FEJMggpQASIIHACvC9PyHkTSKJBw90K//NExH4RWxacAU8oAAwP4gD8gK3/LaJPk+hAOMFoolINSHNV/WpBnsMQkiiR45BNlv/rfvyRJMvGJxSc1///35xZ5nPnTA+5cX////6kNJjNS0zM3OEwaEUEJCK1RiCi//NExIsh2ypwAY+YAEJ8JnQy4Rsx6LeJ/6evoOwnYgPBEssVUOg8GjGuBVRMITwjtp7ff1ScdpdfTxd1cpCOtxXFfFf/b1/MSkXUKxlIg8UoeOF2IUPMceIA4XP3QtiW//NExFYdSxqcAcNAAcxBcXF2FBz3BRhCKLnyLmUm1GB2DcTB2LlCCI5wgJIqf//////CUIqIRXP7+v/////////vojv2zDDTSRw4NlJKphAyeehZmszHFC5Y8mPmnjw3//NExDMRKyK0AAhOvERmH2e5Uw5xoyxLEgFCxw3JtV//////5C3/////////////+7G6LWdUdQeQRXJmKYacpYdFA6g4JRNTi42OYsWHDDCA6po+OlBWKCYqHSMHg3Kj//NExEESWyKsAAhOvCWAQJAhAgLC6i/////////////////XzH/o19s3PL0NRTaYpYVFMuIhWUk2xxpJhYepLHlWHINQ9JIEYOQ9BsDYHhDARBYC4FwKg9UJlb////6W//NExEoQwyKcAAgQvP///////+rIb2+avr+hn2y6KyPTRjFKgE6OYCPUpHQuhjPMhgwEpQESiOsxnKJUBZWMBCoUYCFHEhQEgFVMyyRhpBR5rT3/wBzzkL+79Zkv+mAI//NExFoQ2xp8AUcQAUA1OAKx7qZgPbQCjiPxQv9rgChAaGBoADZAWUfv7BYuPwuAG4wsjDl/7fhcwOBAWYGrBYAy3//+J3ImOBlk4XDQXJ///+MwTgncvHgvYF0w38Yw//NExGkg+ypUAZiYAEoEQAOP/////jjJ8ZszJ9yYIII/IuRMQHEfpJdqAAsFERizG4DlEwzWPNNu5WYnbFmln7mCCBaIOOq0TFI3TNzITRYBuA/pJUjYuaUYdE66aKKK//NExDgeeyqgAZloALZumy3MI5HdKzXq6BTTrdPTd/ulfVs59H6CFZmUGLzoqMOPo7CVc6io2Muul+tA2UgybutBjiebP60aKp0x/++gadf9aVBwSltW9EV4GRK4D9X6//NExBERoSq0AdlYAAT0Thua7XdOatZeSyCLvcQYARc5yZ87Xvb/s/5uv5t38NSuUGPo8pSta2///////4cBYHgulf//oCzNm3/jAg8Un/FkZnPOqJcyGAJZ1HRJwlWp//NExB0RgxK8AMNEuZUF4DidkECj6/v6/T9botO4gvduqennTO5P//////////////6opHHW6y8C8bKYdYNjwyXyegNED9HunACxb/hlvWNbhkjFeLEBiCYBgVJxA3I///NExCoRsSbAAIPKcH6vyM+QhylGh8odH+gyLEB4uFk///////6lDiJB8awXs8D2afkjARTn7BCDfx5TfjV7WT86s8fAdAAgnKpG6zXppdNXQfoPrMzR1harTmloeA2V//NExDYPwSLEAGvacP//////6xcoHu48AhmTYDSWt2kQ7SKtYZmClQ9nhNtctc4+7aZ/EAGYIclEDcphzTWgeNtTPrfppdRk+ouooIGaD1ZGsaICUTNc///////+2C4T//NExEoSgSrAAG4acP/5ggJFt5wwntPWMYCL82JuAwsWW2e7aLAv/NJWztd209hpTwA0Ia5O/i/5/6v0mt7FVdyibQJas9F5I809//7P///+gXFTCvuQWQTtdv1QAJgk//NExFMR2Sa8AMYQcCqFUXlAxWa00El5S40Lltl0oGxus+WLRZQal6nSHB6gMLLMb+hurfoUrKKh078NRLETywdu///////1hMFRFYfepYAeHHAUAJU97rt6LSeJyIt4//NExF4SaRKkAH4KcMzcw6a2CSp5yAGPIIMpCCz7nnwtlxxz1OEEP/oT///6Inrekp0//9cTggQJqsJXi6JoIA4LHlqmB1uLTYZTq3rXiFLPhFAvhJjgC6AnAlIT8pmB//NExGcQCIp4ANPMTHEV07LoV7b3b/7+25GO3/o1ZJG0b//////ypyp////////OHwrv/YQzJkX4JfYeKNnlFugGIIWW9jlCJkueSLwA8HkzJogRLKqMjTrT63///fsZ//NExHkSowqYAMNEudFkU36fkrVFshO6dP////k/////////7kugUd7/1VIWSIHKUw2FsBpalyojBBJmc9FgEBGVyqBcxUNAYXkT9D1e3v79fnX5Hn+i/PblfG/Qj5P3//NExIEScxqsAMREvP//0+3T///////9X1FbTkCmWv/U2Svq81TA2Gu1YkCLvL/SwLnLSZgQwBmlVjoucked63br////Spw7HOdH686Gq7ZCmNTndP/////////////d//NExIoSMyKsAMyOvFmMABrd/90AYCD+ZxcMjCb7oGCgZaR2G4AOoeVEYwK6QTQQcFpJVGsvJLTb////+6K1oLQ2V/7OR1VFuX36f///t/////////aZggxQzoX9bjws//NExJQRaxa4AMREubrZwAXIb2/HAo5v41K81RGK0hN4uEuFMZoBUk8TYy5PJKQR9/////shjmUv/63L7MtEu1/////////////6dygjmGad/9tlE1Z0AWo/NBEgZJi8//NExKESYxq4AMNEvEr6ioGM8xwc0PmHcWRLgEIDCK0EJgu0QSKAzCDpm77t////VVMVuasmzve97Sy1mpltS9v///VHojvX///////6sigKilD456mjqwUBIEdp2VD7//NExKoR8xa0AMREuZZkMFgChT7Ui8AcqNzQTADymQN0GyWHAG0EhKJCE1Ccm6JugX0z6aFkP//R/1JLW2////1/////7Ia9lf//////6aKrizAziIiJC6TVQymT63fc//NExLUV8xqkAMQKvRkOo1GuZWu3sgmbb1XZ7QbBRTgY47uHyEPXKj9Flevp/+ftQned/+3sdtJG/o221ToxGOSg0AwDHBAaHzi6Ec6CiuIBxnQofOZSMcOEY9audCMp//NExLAVQxqUAMNKvc5iIoug0XuQ5g4IMKMh6hSqDL8tuhtQwopQTGv01Kys+9acz0dWdv/srb2///1/V89dX///887YtHOptPVRVDySgeJDYIZBixgeHZRcsaLJmpgo//NExK4aWw6YAMDKuWqZPFAgSCJpfZwgzSzkIKD0QpsPpPIpcCUPhPNx2Jh9D0GYJ5cPBMPAiEGPBWVkw0v/////////////jqoqpVBai5g75FhosPLJGycYUchYuUIY//NExJcdQyKgABCWvH0xOFwViIGA5d9i1GhwaNLghSqYUBeyiQwWCULh4CQ4Qw/F7v//////olJ57GHIehw441LDScJQ1Go8NRKFRxYfQXlFDKDI3GChGUHxappURUGy//NExHURcyKwAAAQvBpg2QVClQgMKikuVYRS5QwRQIqI43H1//////////////////+548/ze1VPqGwqi5LTdOhQISLQ+KJ7CAUPPFDAST0h5g1MmgCE5hVg4wiFJ8mc//NExIIRWxqsAAAOvUUgJIXxIso41eL///3b/ovWr1La5pylKJuWGXKIHFRQVRncOh+Y45hoqKIJhJxBQFFUKYxzlIaUecgiUWZRQBRpw6oqqaoP/+v////////////9//NExI8RayKwAAAMvORfq3v/1xWVHhKJmQgkUgsMDpRFg6KqiCURFhIPD7kMPVjIHnOHjytXESiQuw0hiiriKihx09UDZoid9Uo0vJ4ez0+TCsrSNn5cKQ1FBVSXkIjj//NExJwO0xq0AAAKvbh/IbmKRsd+tI2mZr/+xec+dNUa0dav44TMzJYdEzMfSUSWsutomX/GHGcFeC3h/CbgG8CfAQEJ2JUIy5IrJEKisepwT4YJ//4RQS8sGhAgDLOC//NExLMQyv6oAUEoAUg+jBFxEWuSQwyLJGRskZD2NsyVoUSux9Zm6UDASxj/9SloaUpn9DGmM/oVs1REOupS//mM35Sv//0MX6lFXKVupTPUrIHgMwkHjVzF6VKKjwVl//NExMIgkupwAYtoAJ4NPg0o9+JVnaw2TEFNRTMuMTAwqqqqqqqqqqqqqqqqqqqqqqqqqqqqqqqqqqqqqqqqqqqqqqqqqqqqqqqqqqqqqqqqqqqqqqqqqqqqTEFNRTMu//NExJISemWoAcMoADEwMKqqqqqqqqqqqqqqqqqqqqqqqqqqqqqqqqqqqqqqqqqqqqqqqqqqqqqqqqqqqqqqqqqqqqqqqqqqqqqqqqqqqqqqqqqqqqqqqqqqTEFNRTMu//NExJsAAANIAAAAADEwMKqqqqqqqqqqqqqqqqqqqqqqqqqqqqqqqqqqqqqqqqqqqqqqqqqqqqqqqqqqqqqqqqqqqqqqqqqqqqqqqqqqqqqqqqqqqqqqqqqqTEFNRTMu//NExKwAAANIAAAAADEwMKqqqqqqqqqqqqqqqqqqqqqqqqqqqqqqqqqqqqqqqqqqqqqqqqqqqqqqqqqqqqqqqqqqqqqqqqqqqqqqqqqqqqqqqqqqqqqqqqqqTEFNRTMu//NExKwAAANIAAAAADEwMKqqqqqqqqqqqqqqqqqqqqqqqqqqqqqqqqqqqqqqqqqqqqqqqqqqqqqqqqqqqqqqqqqqqqqqqqqqqqqqqqqqqqqqqqqqqqqqqqqqTEFNRTMu//NExKwAAANIAAAAADEwMKqqqqqqqqqqqqqqqqqqqqqqqqqqqqqqqqqqqqqqqqqqqqqqqqqqqqqqqqqqqqqqqqqqqqqqqqqqqqqqqqqqqqqqqqqqqqqqqqqqTEFNRTMu//NExKwAAANIAAAAADEwMKqqqqqqqqqqqqqqqqqqqqqqqqqqqqqqqqqqqqqqqqqqqqqqqqqqqqqqqqqqqqqqqqqqqqqqqqqqqqqqqqqqqqqqqqqqqqqqqqqqTEFNRTMu//NExKwAAANIAAAAADEwMKqqqqqqqqqqqqqqqqqqqqqqqqqqqqqqqqqqqqqqqqqqqqqqqqqqqqqqqqqqqqqqqqqqqqqqqqqqqqqqqqqqqqqqqqqqqqqqqqqqTEFNRTMu//NExKwAAANIAAAAADEwMKqqqqqqqqqqqqqqqqqqqqqqqqqqqqqqqqqqqqqqqqqqqqqqqqqqqqqqqqqqqqqqqqqqqqqqqqqqqqqqqqqqqqqqqqqqqqqqqqqqTEFNRTMu//NExKwAAANIAAAAADEwMKqqqqqqqqqqqqqqqqqqqqqqqqqqqqqqqqqqqqqqqqqqqqqqqqqqqqqqqqqqqqqqqqqqqqqqqqqqqqqqqqqqqqqqqqqqqqqqqqqq/OGGlsYW//NExKwAAANIAAAAAAUxi/JMsaeGEQfGAfKmi5dtKoUacSZ3FtJMNQXgxycH+1VTRDh42SCsQB8iDIdCYECtS98de6cE0otOc3ALTRkExWnFjIECzUmH5oyczf4sGzBq//NExKwAAANIAAAAAINGTlJg1/8y/m4DftqDgxw0lNYHMAK0xkERMUzjY0n+q5IhUj8iYSmgH+PUIAQslBhmSokacZcB9m8W0tQkZQISfx9IWhhvqJNsj94p3zqd5i8C//NExKwAAANIAAAAALaa/fwZ4kPGZImfArvV/fd+2iI7kC9i/Zk4TKQ7pxn/aP72//4fY/9sqzJVqB642DzSbcxC7uU2fY/xs+X/+9tmmTvMm4vY/vYegAanCy+pgCYj//NExP8YsQmIAMPScIcVgTvFzi6UGxovcqJ3ZlBKrC3JCUmkOLcjycqRVSKKR8+u1OapuN07x+60xTyOSdhxLW291nFa637W3BjZ/qUokHioZ0eoi9SlmMZDZpSoiiqG//NExO8lwxnwAMPMvDKXq0xlK5ejr6lTErmFitqZRUrCQs5TOWVtOb1MpazGMhnRylllZQ6MAy1MQU1FMy4xMDBVVVVVVVVVVVVVVVVVVVVVVVVVVVVVVVVVVVVVVVVV//NExKsguxHgAMPKuVVVVVVVVVVVVVVVVVVVVVVVVVVVVVVVVVVVVVVVVVVVVVVVVVVVVVVVVVVVVVVVVVVVVVVVVVVVVVVVVVVVVVVVVVVVVVVVVVVVVVVVVVVVVVVV\" type=\"audio/mpeg\" />\n",
              "                    Your browser does not support the audio element.\n",
              "                </audio>\n",
              "              "
            ]
          },
          "metadata": {}
        }
      ]
    }
  ]
}